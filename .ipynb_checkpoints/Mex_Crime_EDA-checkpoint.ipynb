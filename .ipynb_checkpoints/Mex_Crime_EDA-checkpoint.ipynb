{
 "cells": [
  {
   "cell_type": "markdown",
   "id": "bf9c37c2",
   "metadata": {},
   "source": [
    "# Introduction\n",
    "**Problem Statement and Importance:**\n",
    "I aim to understand regional patterns in crime within Mexico and how economic factors like GDP and se if it contributes to any differences or patterns. Also, in the article, [How Mexican Judicial Reform May Have Fueled Crime: Arrest Trends and Trust Erosion](https://www.thecgo.org/research/how-mexican-judicial-reform-may-have-fueled-crime/), it discusses how this new policy intends to reduce crime but it suggests otherwise. It rasies the question if this plicy had a positive or negative effect.\n",
    "\n",
    "**Approach:**\n",
    "I will analyze regional crime types and economic factors using a crime dataset of Mexico from 2015 to 2023, along with the GDP dataset for those years. The methods that I will utilize include data visualizations to find possible correlation patterns and filtering to hone in on certain areas. Additionally, I will incorporate the GDP dataset to assess if the economy's state plays a role in any crime insights.\n",
    "\n",
    "**Benefits:**\n",
    "My analysis can provide insights for policymakers and law enforcement to develop targeted interventions and allocate resources effectively based on regional challenges in Mexico. Also, can be used too see if any recent policies have had an effect. \n",
    "\n",
    "**Consumer Impact:**\n",
    "Stakeholders can make informed decisions and implement strategies to reduce crime, improve socio-economic conditions, and create safer communities across Mexico. For the general public, gaining an insightful understanding of recent crime trends in Mexico can serve as a reference point for travel, work, and school-related decisions."
   ]
  },
  {
   "cell_type": "code",
   "execution_count": 128,
   "id": "52421889",
   "metadata": {},
   "outputs": [],
   "source": [
    "import numpy as np #allows for efficient calculations and manipulation with arrays\n",
    "import pandas as pd #allows for the use of dataframes and quick insight to the dataset\n",
    "import matplotlib.pyplot as plt #used with seaborn also allows for object-oriented plotting\n",
    "import seaborn as sns # allows for visualizations\n"
   ]
  },
  {
   "cell_type": "markdown",
   "id": "a245ac79",
   "metadata": {},
   "source": [
    "The dataset below is from Kaggle. The purpose of this dataset is to compile a variety of crimes in Mexico and offer the ability to inquire about patterns or differences in crime. The initial collection of this data seems to have occurred from 2015 to 2023, and the page of this dataset states that it is updated quarterly. The dataset includes 9 fields: year, entity_code, entity, affected_legal_good, type_of_crime, subtype_of_crime, modality, month, and count. Fortunately, this dataset has already been cleaned and is ready to be analyzed, showing no irregularities in its data. [Mexican Crime Statistics:Comprehensive (2015-2023)\n",
    "](https://www.kaggle.com/datasets/elanderos/official-crime-stats-mexico-2015-2023)"
   ]
  },
  {
   "cell_type": "code",
   "execution_count": 129,
   "id": "3cce0857",
   "metadata": {},
   "outputs": [
    {
     "data": {
      "text/html": [
       "<div>\n",
       "<style scoped>\n",
       "    .dataframe tbody tr th:only-of-type {\n",
       "        vertical-align: middle;\n",
       "    }\n",
       "\n",
       "    .dataframe tbody tr th {\n",
       "        vertical-align: top;\n",
       "    }\n",
       "\n",
       "    .dataframe thead th {\n",
       "        text-align: right;\n",
       "    }\n",
       "</style>\n",
       "<table border=\"1\" class=\"dataframe\">\n",
       "  <thead>\n",
       "    <tr style=\"text-align: right;\">\n",
       "      <th></th>\n",
       "      <th>year</th>\n",
       "      <th>entity_code</th>\n",
       "      <th>entity</th>\n",
       "      <th>affected_legal_good</th>\n",
       "      <th>type_of_crime</th>\n",
       "      <th>subtype_of_crime</th>\n",
       "      <th>modality</th>\n",
       "      <th>month</th>\n",
       "      <th>count</th>\n",
       "    </tr>\n",
       "  </thead>\n",
       "  <tbody>\n",
       "    <tr>\n",
       "      <th>0</th>\n",
       "      <td>2015</td>\n",
       "      <td>1</td>\n",
       "      <td>Aguascalientes</td>\n",
       "      <td>Life and bodily integrity</td>\n",
       "      <td>Homicide</td>\n",
       "      <td>Intentional Homicide</td>\n",
       "      <td>With firearm</td>\n",
       "      <td>January</td>\n",
       "      <td>3</td>\n",
       "    </tr>\n",
       "    <tr>\n",
       "      <th>1</th>\n",
       "      <td>2015</td>\n",
       "      <td>1</td>\n",
       "      <td>Aguascalientes</td>\n",
       "      <td>Life and bodily integrity</td>\n",
       "      <td>Homicide</td>\n",
       "      <td>Intentional Homicide</td>\n",
       "      <td>With sharp weapon</td>\n",
       "      <td>January</td>\n",
       "      <td>1</td>\n",
       "    </tr>\n",
       "    <tr>\n",
       "      <th>2</th>\n",
       "      <td>2015</td>\n",
       "      <td>1</td>\n",
       "      <td>Aguascalientes</td>\n",
       "      <td>Life and bodily integrity</td>\n",
       "      <td>Homicide</td>\n",
       "      <td>Intentional Homicide</td>\n",
       "      <td>With another element</td>\n",
       "      <td>January</td>\n",
       "      <td>0</td>\n",
       "    </tr>\n",
       "    <tr>\n",
       "      <th>3</th>\n",
       "      <td>2015</td>\n",
       "      <td>1</td>\n",
       "      <td>Aguascalientes</td>\n",
       "      <td>Life and bodily integrity</td>\n",
       "      <td>Homicide</td>\n",
       "      <td>Intentional Homicide</td>\n",
       "      <td>Not specified</td>\n",
       "      <td>January</td>\n",
       "      <td>2</td>\n",
       "    </tr>\n",
       "    <tr>\n",
       "      <th>4</th>\n",
       "      <td>2015</td>\n",
       "      <td>1</td>\n",
       "      <td>Aguascalientes</td>\n",
       "      <td>Life and bodily integrity</td>\n",
       "      <td>Homicide</td>\n",
       "      <td>Manslaughter</td>\n",
       "      <td>With firearm</td>\n",
       "      <td>January</td>\n",
       "      <td>0</td>\n",
       "    </tr>\n",
       "  </tbody>\n",
       "</table>\n",
       "</div>"
      ],
      "text/plain": [
       "   year  entity_code          entity        affected_legal_good type_of_crime  \\\n",
       "0  2015            1  Aguascalientes  Life and bodily integrity      Homicide   \n",
       "1  2015            1  Aguascalientes  Life and bodily integrity      Homicide   \n",
       "2  2015            1  Aguascalientes  Life and bodily integrity      Homicide   \n",
       "3  2015            1  Aguascalientes  Life and bodily integrity      Homicide   \n",
       "4  2015            1  Aguascalientes  Life and bodily integrity      Homicide   \n",
       "\n",
       "       subtype_of_crime              modality    month  count  \n",
       "0  Intentional Homicide          With firearm  January      3  \n",
       "1  Intentional Homicide     With sharp weapon  January      1  \n",
       "2  Intentional Homicide  With another element  January      0  \n",
       "3  Intentional Homicide         Not specified  January      2  \n",
       "4          Manslaughter          With firearm  January      0  "
      ]
     },
     "execution_count": 129,
     "metadata": {},
     "output_type": "execute_result"
    }
   ],
   "source": [
    "mex_crime_raw = pd.read_csv('mexico_crime.csv')\n",
    "\n",
    "mex_crime_raw.head()"
   ]
  },
  {
   "cell_type": "markdown",
   "id": "f8b56fb3",
   "metadata": {},
   "source": [
    "The dataset below is from Mexico's official government website. The purpose of this data is to inform the public about Mexico's status regarding socioeconomic factors. The initial collection of this GDP dataset is from 1993 to 2023. This dataset contains only two fields: year and GDP. I will focus on fixing the GDP values and irrelevant years by manipulating the dataset to only include the years I am interested in (i.e., 2015-2023) and rounding the scientific notation GDP values. [Data Mexico](https://www.economia.gob.mx/datamexico/en/profile/geo/mexico)"
   ]
  },
  {
   "cell_type": "code",
   "execution_count": 149,
   "id": "e5389d73",
   "metadata": {},
   "outputs": [
    {
     "data": {
      "text/html": [
       "<div>\n",
       "<style scoped>\n",
       "    .dataframe tbody tr th:only-of-type {\n",
       "        vertical-align: middle;\n",
       "    }\n",
       "\n",
       "    .dataframe tbody tr th {\n",
       "        vertical-align: top;\n",
       "    }\n",
       "\n",
       "    .dataframe thead th {\n",
       "        text-align: right;\n",
       "    }\n",
       "</style>\n",
       "<table border=\"1\" class=\"dataframe\">\n",
       "  <thead>\n",
       "    <tr style=\"text-align: right;\">\n",
       "      <th></th>\n",
       "      <th>Year</th>\n",
       "      <th>GDP</th>\n",
       "    </tr>\n",
       "  </thead>\n",
       "  <tbody>\n",
       "    <tr>\n",
       "      <th>0</th>\n",
       "      <td>1993</td>\n",
       "      <td>655804.6375</td>\n",
       "    </tr>\n",
       "    <tr>\n",
       "      <th>1</th>\n",
       "      <td>1994</td>\n",
       "      <td>683582.0125</td>\n",
       "    </tr>\n",
       "    <tr>\n",
       "      <th>2</th>\n",
       "      <td>1995</td>\n",
       "      <td>643906.2375</td>\n",
       "    </tr>\n",
       "    <tr>\n",
       "      <th>3</th>\n",
       "      <td>1996</td>\n",
       "      <td>684588.4875</td>\n",
       "    </tr>\n",
       "    <tr>\n",
       "      <th>4</th>\n",
       "      <td>1997</td>\n",
       "      <td>733534.7250</td>\n",
       "    </tr>\n",
       "  </tbody>\n",
       "</table>\n",
       "</div>"
      ],
      "text/plain": [
       "   Year          GDP\n",
       "0  1993  655804.6375\n",
       "1  1994  683582.0125\n",
       "2  1995  643906.2375\n",
       "3  1996  684588.4875\n",
       "4  1997  733534.7250"
      ]
     },
     "execution_count": 149,
     "metadata": {},
     "output_type": "execute_result"
    }
   ],
   "source": [
    "mex_gdp = pd.read_csv('inegi_gdp_2024-03-28T23_41_51.407Z.csv')\n",
    "mex_gdp.head()"
   ]
  },
  {
   "cell_type": "markdown",
   "id": "2e0a5f01",
   "metadata": {},
   "source": [
    "## Cleaning/Processing the Data"
   ]
  },
  {
   "cell_type": "code",
   "execution_count": 131,
   "id": "e3ec7df7",
   "metadata": {},
   "outputs": [],
   "source": [
    "\n",
    "mex_crime_raw.dropna(inplace=True) # deal with missing values\n",
    "\n",
    "mex_crime_raw['count'] = mex_crime_raw['count'].astype(int)  # Convert count column to int\n"
   ]
  },
  {
   "cell_type": "code",
   "execution_count": 132,
   "id": "a7ba1bf3",
   "metadata": {},
   "outputs": [
    {
     "data": {
      "text/plain": [
       "array(['aguascalientes', 'baja california', 'baja california sur',\n",
       "       'campeche', 'coahuila', 'colima', 'chiapas', 'chihuahua',\n",
       "       'ciudad de méxico state', 'durango', 'guanajuato', 'guerrero',\n",
       "       'hidalgo', 'jalisco', 'méxico state', 'michoacán', 'morelos',\n",
       "       'nayarit', 'nuevo león', 'oaxaca', 'puebla', 'querétaro',\n",
       "       'quintana roo', 'san luis potosí', 'sinaloa', 'sonora', 'tabasco',\n",
       "       'tamaulipas', 'tlaxcala', 'veracruz', 'yucatán', 'zacatecas'],\n",
       "      dtype=object)"
      ]
     },
     "execution_count": 132,
     "metadata": {},
     "output_type": "execute_result"
    }
   ],
   "source": [
    "#shorten states name and lowercase them\n",
    "mex_crime_raw['entity'] =  [i.replace('Coahuila de Zaragoza', 'Coahuila') for i in mex_crime_raw['entity']]\n",
    "mex_crime_raw['entity'] =  [i.replace('Michoacán de Ocampo', 'Michoacán') for i in mex_crime_raw['entity']]\n",
    "mex_crime_raw['entity'] =  [i.replace('México', 'México State') for i in mex_crime_raw['entity']]\n",
    "mex_crime_raw['entity'] =  [i.replace('Veracruz de Ignacio de la Llave', 'Veracruz') for i in mex_crime_raw['entity']]\n",
    "mex_crime_raw['entity'] =  [i.lower() for i in mex_crime_raw['entity']]\n",
    "pd.unique(mex_crime_raw.entity) #checking for desired output\n",
    "\n"
   ]
  },
  {
   "cell_type": "code",
   "execution_count": 170,
   "id": "acb220fc",
   "metadata": {},
   "outputs": [
    {
     "data": {
      "text/html": [
       "<div>\n",
       "<style scoped>\n",
       "    .dataframe tbody tr th:only-of-type {\n",
       "        vertical-align: middle;\n",
       "    }\n",
       "\n",
       "    .dataframe tbody tr th {\n",
       "        vertical-align: top;\n",
       "    }\n",
       "\n",
       "    .dataframe thead th {\n",
       "        text-align: right;\n",
       "    }\n",
       "</style>\n",
       "<table border=\"1\" class=\"dataframe\">\n",
       "  <thead>\n",
       "    <tr style=\"text-align: right;\">\n",
       "      <th></th>\n",
       "      <th>year</th>\n",
       "      <th>gdp</th>\n",
       "    </tr>\n",
       "  </thead>\n",
       "  <tbody>\n",
       "    <tr>\n",
       "      <th>0</th>\n",
       "      <td>2015</td>\n",
       "      <td>1082369.18</td>\n",
       "    </tr>\n",
       "    <tr>\n",
       "      <th>1</th>\n",
       "      <td>2016</td>\n",
       "      <td>1101264.36</td>\n",
       "    </tr>\n",
       "    <tr>\n",
       "      <th>2</th>\n",
       "      <td>2017</td>\n",
       "      <td>1121829.64</td>\n",
       "    </tr>\n",
       "    <tr>\n",
       "      <th>3</th>\n",
       "      <td>2018</td>\n",
       "      <td>1143681.80</td>\n",
       "    </tr>\n",
       "    <tr>\n",
       "      <th>4</th>\n",
       "      <td>2019</td>\n",
       "      <td>1140266.26</td>\n",
       "    </tr>\n",
       "    <tr>\n",
       "      <th>5</th>\n",
       "      <td>2020</td>\n",
       "      <td>1045508.30</td>\n",
       "    </tr>\n",
       "    <tr>\n",
       "      <th>6</th>\n",
       "      <td>2021</td>\n",
       "      <td>1102626.50</td>\n",
       "    </tr>\n",
       "    <tr>\n",
       "      <th>7</th>\n",
       "      <td>2022</td>\n",
       "      <td>1144430.12</td>\n",
       "    </tr>\n",
       "    <tr>\n",
       "      <th>8</th>\n",
       "      <td>2023</td>\n",
       "      <td>1180775.29</td>\n",
       "    </tr>\n",
       "  </tbody>\n",
       "</table>\n",
       "</div>"
      ],
      "text/plain": [
       "   year         gdp\n",
       "0  2015  1082369.18\n",
       "1  2016  1101264.36\n",
       "2  2017  1121829.64\n",
       "3  2018  1143681.80\n",
       "4  2019  1140266.26\n",
       "5  2020  1045508.30\n",
       "6  2021  1102626.50\n",
       "7  2022  1144430.12\n",
       "8  2023  1180775.29"
      ]
     },
     "execution_count": 170,
     "metadata": {},
     "output_type": "execute_result"
    }
   ],
   "source": [
    "rel_mex_gdp = mex_gdp.loc[22:].copy()\n",
    "\n",
    "rel_mex_gdp['GDP'] = [round(num,2) for num in rel_mex_gdp['GDP']]\n",
    "rel_mex_gdp = rel_mex_gdp.reset_index() # start the index from 0\n",
    "rel_mex_gdp = rel_mex_gdp.drop('index',axis=1)\n",
    "rel_mex_gdp.columns = rel_mex_gdp.columns.str.lower()\n",
    "rel_mex_gdp"
   ]
  },
  {
   "cell_type": "markdown",
   "id": "bd471e7f",
   "metadata": {},
   "source": [
    "## Exploring Mexico's Crime"
   ]
  },
  {
   "cell_type": "code",
   "execution_count": 133,
   "id": "9c974f32",
   "metadata": {},
   "outputs": [
    {
     "name": "stdout",
     "output_type": "stream",
     "text": [
      "There is 332416 rows and there is 9 columns present\n"
     ]
    }
   ],
   "source": [
    "crime_shape = mex_crime_raw.shape\n",
    "print('There is ' + str(crime_shape[0]) + ' rows and there is '+ str(crime_shape[1])+' columns present')"
   ]
  },
  {
   "cell_type": "code",
   "execution_count": 134,
   "id": "e9b5468e",
   "metadata": {},
   "outputs": [
    {
     "name": "stdout",
     "output_type": "stream",
     "text": [
      "<class 'pandas.core.frame.DataFrame'>\n",
      "RangeIndex: 332416 entries, 0 to 332415\n",
      "Data columns (total 9 columns):\n",
      " #   Column               Non-Null Count   Dtype \n",
      "---  ------               --------------   ----- \n",
      " 0   year                 332416 non-null  int64 \n",
      " 1   entity_code          332416 non-null  int64 \n",
      " 2   entity               332416 non-null  object\n",
      " 3   affected_legal_good  332416 non-null  object\n",
      " 4   type_of_crime        332416 non-null  object\n",
      " 5   subtype_of_crime     332416 non-null  object\n",
      " 6   modality             332416 non-null  object\n",
      " 7   month                332416 non-null  object\n",
      " 8   count                332416 non-null  int64 \n",
      "dtypes: int64(3), object(6)\n",
      "memory usage: 22.8+ MB\n"
     ]
    }
   ],
   "source": [
    "mex_crime_raw.info()"
   ]
  },
  {
   "cell_type": "code",
   "execution_count": 135,
   "id": "09f854e9",
   "metadata": {},
   "outputs": [
    {
     "data": {
      "text/html": [
       "<div>\n",
       "<style scoped>\n",
       "    .dataframe tbody tr th:only-of-type {\n",
       "        vertical-align: middle;\n",
       "    }\n",
       "\n",
       "    .dataframe tbody tr th {\n",
       "        vertical-align: top;\n",
       "    }\n",
       "\n",
       "    .dataframe thead th {\n",
       "        text-align: right;\n",
       "    }\n",
       "</style>\n",
       "<table border=\"1\" class=\"dataframe\">\n",
       "  <thead>\n",
       "    <tr style=\"text-align: right;\">\n",
       "      <th></th>\n",
       "      <th>year</th>\n",
       "      <th>entity_code</th>\n",
       "      <th>count</th>\n",
       "    </tr>\n",
       "  </thead>\n",
       "  <tbody>\n",
       "    <tr>\n",
       "      <th>count</th>\n",
       "      <td>332416.000000</td>\n",
       "      <td>332416.000000</td>\n",
       "      <td>332416.000000</td>\n",
       "    </tr>\n",
       "    <tr>\n",
       "      <th>mean</th>\n",
       "      <td>2018.924528</td>\n",
       "      <td>16.500000</td>\n",
       "      <td>52.012960</td>\n",
       "    </tr>\n",
       "    <tr>\n",
       "      <th>std</th>\n",
       "      <td>2.546545</td>\n",
       "      <td>9.233107</td>\n",
       "      <td>202.115018</td>\n",
       "    </tr>\n",
       "    <tr>\n",
       "      <th>min</th>\n",
       "      <td>2015.000000</td>\n",
       "      <td>1.000000</td>\n",
       "      <td>0.000000</td>\n",
       "    </tr>\n",
       "    <tr>\n",
       "      <th>25%</th>\n",
       "      <td>2017.000000</td>\n",
       "      <td>8.750000</td>\n",
       "      <td>0.000000</td>\n",
       "    </tr>\n",
       "    <tr>\n",
       "      <th>50%</th>\n",
       "      <td>2019.000000</td>\n",
       "      <td>16.500000</td>\n",
       "      <td>2.000000</td>\n",
       "    </tr>\n",
       "    <tr>\n",
       "      <th>75%</th>\n",
       "      <td>2021.000000</td>\n",
       "      <td>24.250000</td>\n",
       "      <td>26.000000</td>\n",
       "    </tr>\n",
       "    <tr>\n",
       "      <th>max</th>\n",
       "      <td>2023.000000</td>\n",
       "      <td>32.000000</td>\n",
       "      <td>8421.000000</td>\n",
       "    </tr>\n",
       "  </tbody>\n",
       "</table>\n",
       "</div>"
      ],
      "text/plain": [
       "                year    entity_code          count\n",
       "count  332416.000000  332416.000000  332416.000000\n",
       "mean     2018.924528      16.500000      52.012960\n",
       "std         2.546545       9.233107     202.115018\n",
       "min      2015.000000       1.000000       0.000000\n",
       "25%      2017.000000       8.750000       0.000000\n",
       "50%      2019.000000      16.500000       2.000000\n",
       "75%      2021.000000      24.250000      26.000000\n",
       "max      2023.000000      32.000000    8421.000000"
      ]
     },
     "execution_count": 135,
     "metadata": {},
     "output_type": "execute_result"
    }
   ],
   "source": [
    "mex_crime_raw.describe()"
   ]
  },
  {
   "cell_type": "code",
   "execution_count": 136,
   "id": "808b3a5d",
   "metadata": {},
   "outputs": [
    {
     "data": {
      "image/png": "[encoded data removed]",
      "text/plain": [
       "<Figure size 640x480 with 1 Axes>"
      ]
     },
     "metadata": {},
     "output_type": "display_data"
    }
   ],
   "source": [
    "#Map the crime counts by state\n",
    "sns.barplot(data=mex_crime_raw,x='entity',y='count')\n",
    "plt.xticks(rotation=90)\n",
    "plt.title('Crime Counts by State')\n",
    "plt.xlabel('State')\n",
    "plt.ylabel('Crime Count')\n",
    "plt.show()"
   ]
  },
  {
   "cell_type": "code",
   "execution_count": 169,
   "id": "35925214",
   "metadata": {},
   "outputs": [],
   "source": [
    "#I plan on joining the datsets for the eda\n",
    "\n"
   ]
  }
 ],
 "metadata": {
  "kernelspec": {
   "display_name": "Python 3 (ipykernel)",
   "language": "python",
   "name": "python3"
  },
  "language_info": {
   "codemirror_mode": {
    "name": "ipython",
    "version": 3
   },
   "file_extension": ".py",
   "mimetype": "text/x-python",
   "name": "python",
   "nbconvert_exporter": "python",
   "pygments_lexer": "ipython3",
   "version": "3.11.4"
  }
 },
 "nbformat": 4,
 "nbformat_minor": 5
}
